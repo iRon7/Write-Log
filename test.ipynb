{
	"metadata": {
		"kernelspec": {
			"name": "powershell",
			"display_name": "PowerShell"
		},
		"language_info": {
			"name": "powershell",
			"codemirror_mode": "shell",
			"mimetype": "text/x-sh",
			"file_extension": ".ps1"
		}
	},
	"nbformat_minor": 2,
	"nbformat": 4,
	"cells": [
		{
			"cell_type": "markdown",
			"source": [
				"| Type            | Name    |\r\n",
				"|-----------------|---------|\r\n",
				"| Virtual Machine | TestVM1 |\r\n",
				"| Virtual Machine | TestVM2 |"
			],
			"metadata": {
				"azdata_cell_guid": "16f1b18a-fcf5-4832-a7d7-4d2cd7d72ac8"
			}
		},
		{
			"cell_type": "code",
			"source": [
				"$Data = Get-Content -Path .\\test.ipynb | ConvertFrom-Json\r\n",
				"$Data"
			],
			"metadata": {
				"azdata_cell_guid": "32e39f05-2228-4fd1-bfd9-aad884e80568"
			},
			"outputs": [],
			"execution_count": null
		}
	]
}
