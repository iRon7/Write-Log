{
	"metadata": {
		"kernelspec": {
			"name": "powershell",
			"display_name": "PowerShell"
		},
		"language_info": {
			"name": "powershell",
			"codemirror_mode": "shell",
			"mimetype": "text/x-sh",
			"file_extension": ".ps1"
		}
	},
	"nbformat_minor": 2,
	"nbformat": 4,
	"cells": [
		{
			"cell_type": "markdown",
			"source": [
				"| Type            | Name    |\r\n",
				"|-----------------|---------|\r\n",
				"| Virtual Machine | TestVM1 |\r\n",
				"| Virtual Machine | TestVM2 |"
			],
			"metadata": {
				"azdata_cell_guid": "16f1b18a-fcf5-4832-a7d7-4d2cd7d72ac8"
			}
		},
  {
   "cell_type": "code",
   "execution_count": 1,
   "metadata": {},
   "outputs": [],
   "source": [
    "a = 'Hello'\n",
    "print(a)"
   ]
  }
	]
}
